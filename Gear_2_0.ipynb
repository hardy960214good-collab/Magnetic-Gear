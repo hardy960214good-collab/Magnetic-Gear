{
  "cells": [
    {
      "cell_type": "code",
      "execution_count": null,
      "metadata": {
        "id": "gddnHBDSV1hN"
      },
      "outputs": [],
      "source": [
        "#匯入模組\n",
        "import numpy as np\n",
        "import matplotlib.pyplot as plt\n",
        "import sympy as smp\n",
        "from scipy.integrate import odeint\n",
        "import math"
      ]
    },
    {
      "cell_type": "code",
      "execution_count": null,
      "metadata": {
        "id": "Uk7WUI_BWGxB"
      },
      "outputs": [],
      "source": [
        "#定義符號\n",
        "t = smp.symbols('t',real=True)\n",
        "the1, the2 = smp.symbols(r'\\theta_1 \\theta_2',cls=smp.Function)\n",
        "\n",
        "#角度\n",
        "the1 = the1(t)\n",
        "the2 = the2(t)\n",
        "\n",
        "#角速度\n",
        "the1_d = smp.diff(the1, t)\n",
        "the2_d = smp.diff(the2, t)\n",
        "\n",
        "#角加速度\n",
        "the1_dd = smp.diff(the1_d,t)\n",
        "the2_dd = smp.diff(the2_d,t)"
      ]
    },
    {
      "cell_type": "code",
      "execution_count": null,
      "metadata": {
        "id": "cD8YxpuFWclw"
      },
      "outputs": [],
      "source": [
        "#變數\n",
        "k = np.radians(72)  #指尖夾角\n",
        "d = 0.125       #指尖陀螺距離\n",
        "l = 0.05       #指尖長度\n",
        "r = 0.02       #指尖寬度\n",
        "m = 0.0218      #指尖陀螺質量\n",
        "M = 0.0045       #磁鐵質量\n",
        "I = 1/12*m*r*r+1/3*m*l*l+3*M*l*l #轉動慣量\n",
        "q1 = 143       #磁荷1\n",
        "q2 = 143       #磁荷2\n",
        "Q = q1*q2/10**7   #磁荷乘積\n",
        "u = 0.45       #磁偶極矩\n",
        "u0 = 4*math.pi/10**7 #真空磁導率\n",
        "\n",
        "the1 = np.radians(20)\n",
        "the2 = np.radians(30)\n",
        "#各指尖(磁鐵)位置\n",
        "x11 = l*smp.cos(the1)\n",
        "y11 = l*smp.sin(the1)\n",
        "x12 = l*smp.cos(the1+k)\n",
        "y12 = l*smp.sin(the1+k)\n",
        "x13 = l*smp.cos(the1-k)\n",
        "y13 = l*smp.sin(the1-k)\n",
        "\n",
        "x21 = d+l*smp.cos(the2)\n",
        "y21 = l*smp.sin(the2)\n",
        "x22 = d+l*smp.cos(the2+k)\n",
        "y22 = l*smp.sin(the2+k)\n",
        "x23 = d+l*smp.cos(the2-k)\n",
        "y23 = l*smp.sin(the2-k)\n",
        "\n",
        "#磁鐵倆倆距離\n",
        "d11 = ((x11-x21)**2+(y11-y21)**2)**0.5\n",
        "d12 = ((x11-x22)**2+(y11-y22)**2)**0.5\n",
        "d13 = ((x11-x23)**2+(y11-y23)**2)**0.5\n",
        "\n",
        "d21 = ((x12-x21)**2+(y12-y21)**2)**0.5\n",
        "d22 = ((x12-x22)**2+(y12-y22)**2)**0.5\n",
        "d23 = ((x12-x23)**2+(y12-y23)**2)**0.5\n",
        "\n",
        "d31 = ((x13-x21)**2+(y13-y21)**2)**0.5\n",
        "d32 = ((x13-x22)**2+(y13-y22)**2)**0.5\n",
        "d33 = ((x13-x23)**2+(y13-y23)**2)**0.5"
      ]
    },
    {
      "cell_type": "code",
      "execution_count": null,
      "metadata": {
        "id": "YWXLg1gYenqH",
        "colab": {
          "base_uri": "https://localhost:8080/",
          "height": 37
        },
        "outputId": "dbdcba1b-7e58-4621-f3da-3146a0b9e11d"
      },
      "outputs": [
        {
          "output_type": "execute_result",
          "data": {
            "text/plain": [
              "0.000231958965460284"
            ],
            "text/latex": "$\\displaystyle 0.000231958965460284$"
          },
          "metadata": {},
          "execution_count": 11
        }
      ],
      "source": [
        "#拉格朗日\n",
        "\n",
        "K = I*(the1_d**2+the2_d**2) #動能\n",
        "\n",
        "#位能(磁偶極矩 與 磁場 內積)\n",
        "V11 = u0/4/math.pi*(3*d11*(u*(d11))/d11**5-u/d11**3)*(u)\n",
        "V12 = u0/4/math.pi*(3*d12*(u*(d12))/d12**5-u/d12**3)*(u)\n",
        "V13 = u0/4/math.pi*(3*d13*(u*(d13))/d13**5-u/d13**3)*(u)\n",
        "V21 = u0/4/math.pi*(3*d21*(u*(d21))/d21**5-u/d21**3)*(u)\n",
        "V22 = u0/4/math.pi*(3*d22*(u*(d22))/d22**5-u/d22**3)*(u)\n",
        "V23 = u0/4/math.pi*(3*d23*(u*(d23))/d23**5-u/d23**3)*(u)\n",
        "V31 = u0/4/math.pi*(3*d31*(u*(d31))/d31**5-u/d31**3)*(u)\n",
        "V32 = u0/4/math.pi*(3*d32*(u*(d32))/d32**5-u/d32**3)*(u)\n",
        "V33 = u0/4/math.pi*(3*d33*(u*(d33))/d33**5-u/d33**3)*(u)\n",
        "\n",
        "#舊位能(簡化版、磁荷)\n",
        "V_old = Q/d11 + Q/d12 + Q/d13 + Q/d21 + Q/d22 + Q/d23 + Q/d31 + Q/d32 + Q/d33\n",
        "#新位能(複雜版、磁場)\n",
        "V_new = V11+V12+V13+V21+V22+V23+V31+V32+V33\n",
        "\n",
        "L = K-V_new #拉格朗日\n",
        "V_new"
      ]
    },
    {
      "cell_type": "code",
      "execution_count": null,
      "metadata": {
        "id": "go-QPDk8ZO8e"
      },
      "outputs": [],
      "source": [
        "#微分、偏微分\n",
        "LE2 = smp.diff(L,the2)-smp.diff((smp.diff(L,the2_d)),t)\n",
        "LE2 = LE2.simplify()"
      ]
    },
    {
      "cell_type": "code",
      "execution_count": null,
      "metadata": {
        "id": "3UU62OOufbu5"
      },
      "outputs": [],
      "source": [
        "#解微分方程\n",
        "sols = smp.solve([LE2],(the2_dd),simplify=False,rational=False)"
      ]
    },
    {
      "cell_type": "code",
      "execution_count": null,
      "metadata": {
        "id": "kUZnio8tfpd8"
      },
      "outputs": [],
      "source": [
        "#指尖陀螺1的運動方程\n",
        "dz1dt_f = 0 #回傳角加速度=0\n",
        "dthe1dt_f = smp.lambdify(the1_d,the1_d) #回傳角速度=角速度\n",
        "\n",
        "#指尖陀螺2的運動方程\n",
        "dis = 0.05187 #消耗係數\n",
        "\n",
        "#回傳角加速度=各種變數待入方程式-消耗項\n",
        "dz2dt_f = smp.lambdify((the1,the2,the1_d,the2_d), sols[the2_dd]-2*the2_d*dis)\n",
        "dthe2dt_f = smp.lambdify(the2_d,the2_d) #回傳角速度=角速度"
      ]
    },
    {
      "cell_type": "code",
      "execution_count": null,
      "metadata": {
        "id": "S8G_FDYAgc76"
      },
      "outputs": [],
      "source": [
        "#定義會回傳[角度1、角度2、角速度1、角速度2]的函式\n",
        "def dSdt(S,t):\n",
        "  the1, the2, z1, z2 = S\n",
        "  return [\n",
        "      dthe1dt_f(z1),\n",
        "      dthe2dt_f(z2),\n",
        "      0,\n",
        "      dz2dt_f(the1,the2,z1,z2),\n",
        "  ]"
      ]
    },
    {
      "cell_type": "code",
      "execution_count": null,
      "metadata": {
        "id": "M2IF1mRPif2N"
      },
      "outputs": [],
      "source": [
        "#跑數值解\n",
        "time = 10 #總時長\n",
        "dt = 0.01 #時間間隔\n",
        "t = np.linspace(0,time,int(time/dt)) #內插建立時間表\n",
        "\n",
        "#帶入初始條件[角度1、角度2、角速度1、角速度2]、回傳數值解結果\n",
        "ans = odeint(dSdt,y0=[0,0,5,-3],t=t)"
      ]
    },
    {
      "cell_type": "code",
      "execution_count": null,
      "metadata": {
        "id": "CQbBikETi-6J",
        "colab": {
          "base_uri": "https://localhost:8080/",
          "height": 430
        },
        "outputId": "a3ec120a-a7ee-48ed-e426-c3cb9001f6c9"
      },
      "outputs": [
        {
          "output_type": "display_data",
          "data": {
            "text/plain": [
              "<Figure size 640x480 with 1 Axes>"
            ],
            "image/png": "[encoded data removed]"
          },
          "metadata": {}
        }
      ],
      "source": [
        "#匯出數值解結果\n",
        "r_the1 = ans.T[0]  #角度1數值解結果\n",
        "r_the2 = ans.T[1]  #角度2數值解結果\n",
        "r_the1_d = ans.T[2] #角速度1數值解結果\n",
        "r_the2_d = ans.T[3] #角速度2數值解結果\n",
        "\n",
        "#畫圖\n",
        "plt.plot(t,r_the1_d,color='chocolate')  #繪圖(x軸,y軸,顏色=\"?!\")\n",
        "plt.plot(t,r_the2_d,color='purple')  #繪圖(x軸,y軸,顏色=\"?!\")\n",
        "plt.show() #秀出圖表"
      ]
    },
    {
      "cell_type": "code",
      "execution_count": null,
      "metadata": {
        "id": "SBpX-zuCjMKb"
      },
      "outputs": [],
      "source": [
        "#將數值解轉出txt檔\n",
        "path = r\"Numerical Solution.txt\" #設定檔名\n",
        "with open (path,'w') as f:\n",
        "  f.write(str([d,width1/2,l,dt])+\"\\n\") #第一格先寫變數\n",
        "  for n in range(0,int(time/dt)-1):\n",
        "    f.write(str([n/dt,r_the1[n],r_the2[n],r_the1_d[n],r_the2_d[n]])+\"\\n\") #後續再逐格寫入數值解[時間、角度1、角度2、角速度1、角速度2]\n",
        "f.close()"
      ]
    },
    {
      "cell_type": "code",
      "execution_count": null,
      "metadata": {
        "id": "SDxy8BHt1duF"
      },
      "outputs": [],
      "source": []
    }
  ],
  "metadata": {
    "accelerator": "GPU",
    "colab": {
      "provenance": [],
      "toc_visible": true
    },
    "kernelspec": {
      "display_name": "Python 3",
      "name": "python3"
    },
    "language_info": {
      "name": "python"
    }
  },
  "nbformat": 4,
  "nbformat_minor": 0
}